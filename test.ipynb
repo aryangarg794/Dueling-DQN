{
 "cells": [
  {
   "cell_type": "code",
   "execution_count": 1,
   "id": "1b9a6da2",
   "metadata": {},
   "outputs": [],
   "source": [
    "import numpy as np"
   ]
  },
  {
   "cell_type": "code",
   "execution_count": 2,
   "id": "81e41820",
   "metadata": {},
   "outputs": [],
   "source": [
    "a = np.zeros((20))"
   ]
  },
  {
   "cell_type": "code",
   "execution_count": 3,
   "id": "65dd10f5",
   "metadata": {},
   "outputs": [
    {
     "data": {
      "text/plain": [
       "(array([-0.60517404, -0.95431942, -0.37357648,  2.066158  ,  1.00607983,\n",
       "        -0.48525722,  0.36524785, -0.55143594, -0.07799583,  0.04149204]),\n",
       " array([0, 1, 2, 3, 4, 5, 6, 7, 8, 9]))"
      ]
     },
     "execution_count": 3,
     "metadata": {},
     "output_type": "execute_result"
    }
   ],
   "source": [
    "b = np.random.normal(size=(10))\n",
    "idxs = np.arange(0, 10)\n",
    "b, idxs"
   ]
  },
  {
   "cell_type": "code",
   "execution_count": 4,
   "id": "dbfa71ca",
   "metadata": {},
   "outputs": [],
   "source": [
    "idxs = (idxs + 10 + 1) % 20"
   ]
  },
  {
   "cell_type": "code",
   "execution_count": 5,
   "id": "5a5cf427",
   "metadata": {},
   "outputs": [
    {
     "data": {
      "text/plain": [
       "array([11, 12, 13, 14, 15, 16, 17, 18, 19,  0])"
      ]
     },
     "execution_count": 5,
     "metadata": {},
     "output_type": "execute_result"
    }
   ],
   "source": [
    "idxs"
   ]
  },
  {
   "cell_type": "code",
   "execution_count": 6,
   "id": "de935085",
   "metadata": {},
   "outputs": [],
   "source": [
    "a[idxs] = b "
   ]
  },
  {
   "cell_type": "code",
   "execution_count": 34,
   "id": "d5a55a5b",
   "metadata": {},
   "outputs": [],
   "source": [
    "c = [0, 5, 10, 15]"
   ]
  },
  {
   "cell_type": "code",
   "execution_count": 45,
   "id": "57008184",
   "metadata": {},
   "outputs": [
    {
     "data": {
      "text/plain": [
       "array([ 3.29709859,  9.0837541 , 14.54885685])"
      ]
     },
     "execution_count": 45,
     "metadata": {},
     "output_type": "execute_result"
    }
   ],
   "source": [
    "np.random.uniform(low=c[:-1], high=c[1:])"
   ]
  }
 ],
 "metadata": {
  "kernelspec": {
   "display_name": ".venv",
   "language": "python",
   "name": "python3"
  },
  "language_info": {
   "codemirror_mode": {
    "name": "ipython",
    "version": 3
   },
   "file_extension": ".py",
   "mimetype": "text/x-python",
   "name": "python",
   "nbconvert_exporter": "python",
   "pygments_lexer": "ipython3",
   "version": "3.12.5"
  }
 },
 "nbformat": 4,
 "nbformat_minor": 5
}
