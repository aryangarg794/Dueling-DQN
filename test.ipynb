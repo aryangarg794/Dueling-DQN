{
 "cells": [
  {
   "cell_type": "code",
   "execution_count": 60,
   "id": "6dc39052",
   "metadata": {},
   "outputs": [],
   "source": [
    "from sortedcontainers import SortedList\n",
    "\n",
    "class ValueSortedDict:\n",
    "    def __init__(self):\n",
    "        self.data = {}\n",
    "        self.sorted_values = SortedList()\n",
    "\n",
    "    def __setitem__(self, key, value):\n",
    "        if key in self.data:\n",
    "            self.sorted_values.remove((self.data[key], key))\n",
    "        self.data[key] = value\n",
    "        self.sorted_values.add((value, key))\n",
    "\n",
    "    def get(self, key):\n",
    "        return self.data.get(key)\n",
    "    \n",
    "    def get_rank(self, key): \n",
    "        if key in self.data:\n",
    "            return self.sorted_values.index((self.data[key], key))\n",
    "\n",
    "    def get_sorted_items(self):\n",
    "        return [(key, value) for value, key in self.sorted_values]\n",
    "\n",
    "    def __repr__(self): \n",
    "        return f'{self.get_sorted_items()}'"
   ]
  },
  {
   "cell_type": "code",
   "execution_count": 57,
   "id": "fa2bad42",
   "metadata": {},
   "outputs": [
    {
     "data": {
      "text/plain": [
       "[(6, -1.3635517919232045), (1, -1.1061924109251573), (0, -0.9724689966744668), (9, -0.686942484364805), (4, -0.3224051364690824), (2, 0.30918157672033914), (8, 0.5769550934803473), (7, 0.7186871222665296), (5, 1.9933798136775287), (3, 2.061620383596309)]"
      ]
     },
     "execution_count": 57,
     "metadata": {},
     "output_type": "execute_result"
    }
   ],
   "source": [
    "a"
   ]
  },
  {
   "cell_type": "code",
   "execution_count": 58,
   "id": "a45ffdb4",
   "metadata": {},
   "outputs": [],
   "source": [
    "a[10] = -100"
   ]
  },
  {
   "cell_type": "code",
   "execution_count": 59,
   "id": "b60b3854",
   "metadata": {},
   "outputs": [
    {
     "name": "stdout",
     "output_type": "stream",
     "text": [
      "(-100, 10)\n"
     ]
    },
    {
     "data": {
      "text/plain": [
       "0"
      ]
     },
     "execution_count": 59,
     "metadata": {},
     "output_type": "execute_result"
    }
   ],
   "source": [
    "a.get_rank(10)"
   ]
  },
  {
   "cell_type": "code",
   "execution_count": 55,
   "id": "5285e4ed",
   "metadata": {},
   "outputs": [],
   "source": [
    "a = ValueSortedDict()"
   ]
  },
  {
   "cell_type": "code",
   "execution_count": 56,
   "id": "da9ff924",
   "metadata": {},
   "outputs": [],
   "source": [
    "import numpy as np\n",
    "for i in range(int(10)):\n",
    "    a[i] = np.random.normal()"
   ]
  },
  {
   "cell_type": "code",
   "execution_count": 28,
   "id": "73d3cc37",
   "metadata": {},
   "outputs": [],
   "source": [
    "for _ in range(1024):\n",
    "    idx = np.random.randint(0, int(10))\n",
    "    a[idx] = np.random.normal()"
   ]
  },
  {
   "cell_type": "code",
   "execution_count": 61,
   "id": "d626be4c",
   "metadata": {},
   "outputs": [],
   "source": [
    "n_segments = 20 // 5"
   ]
  },
  {
   "cell_type": "code",
   "execution_count": 65,
   "id": "6bc73e1a",
   "metadata": {},
   "outputs": [],
   "source": [
    "intervals = [n_segments * i for i in range(5)] + [19]"
   ]
  },
  {
   "cell_type": "code",
   "execution_count": 66,
   "id": "643cba0f",
   "metadata": {},
   "outputs": [
    {
     "data": {
      "text/plain": [
       "[0, 4, 8, 12, 16, 19]"
      ]
     },
     "execution_count": 66,
     "metadata": {},
     "output_type": "execute_result"
    }
   ],
   "source": [
    "intervals"
   ]
  },
  {
   "cell_type": "code",
   "execution_count": 67,
   "id": "91c93de0",
   "metadata": {},
   "outputs": [],
   "source": [
    "sampled_values = np.random.randint(low=intervals[:-1], high=intervals[1:])"
   ]
  },
  {
   "cell_type": "code",
   "execution_count": 68,
   "id": "781b77bc",
   "metadata": {},
   "outputs": [
    {
     "data": {
      "text/plain": [
       "array([ 1,  7, 10, 13, 16], dtype=int32)"
      ]
     },
     "execution_count": 68,
     "metadata": {},
     "output_type": "execute_result"
    }
   ],
   "source": [
    "sampled_values"
   ]
  }
 ],
 "metadata": {
  "kernelspec": {
   "display_name": ".venv",
   "language": "python",
   "name": "python3"
  },
  "language_info": {
   "codemirror_mode": {
    "name": "ipython",
    "version": 3
   },
   "file_extension": ".py",
   "mimetype": "text/x-python",
   "name": "python",
   "nbconvert_exporter": "python",
   "pygments_lexer": "ipython3",
   "version": "3.12.5"
  }
 },
 "nbformat": 4,
 "nbformat_minor": 5
}
